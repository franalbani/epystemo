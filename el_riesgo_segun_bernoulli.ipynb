{
 "cells": [
  {
   "cell_type": "markdown",
   "metadata": {},
   "source": [
    "# El Riesgo según Daniel Bernoulli (1738)\n",
    "\n",
    "Vamos a explorar las implicancias de las ideas de Daniel Bernoulli acerca del riesgo.\n",
    "\n",
    "Es importante que entendamos *riesgo* más como sinónimo e *azar* (neutral) que de *peligroso*. Esto en sí da lugar a una interesante reflexión: *en esa época se hacía más énfasis en los aspectos negativos de destino que en los positivos; hoy usamos la palabra **suerte** como sinónimo de azar, con un sesgo claramente positivo*.\n",
    "\n",
    "Por favor, sírvase de una [copia digital](https://www.semanticscholar.org/paper/Exposition-of-a-New-Theory-on-the-Measurement-of-Bernoulli/ef512f15aa1c294c7575aa329a7fecd80be6633b) de dicho documento histórico."
   ]
  },
  {
   "cell_type": "markdown",
   "metadata": {},
   "source": [
    "## §1\n",
    "\n",
    "Dice Danielito:\n",
    "\n",
    "> EVER SINCE mathematicians first began to study the measurement of risk there has been general agreement on the following proposition:\n",
    ">\n",
    ">  *Expected values are computed by multiplying each possible gain by the number of ways in which it can occur, and then dividing the sum of these products by the total number of possible cases where, in this theory, the consideration of cases which are all of the same probability is insisted upon.*\n",
    ">\n",
    ">  If this rule be accepted, what remains to be done within the framework of this theory amounts to the enumeration of all alterna-tives, their   breakdown into equi-probable cases and, finally, their insertion into corresponding classifications. "
   ]
  },
  {
   "cell_type": "markdown",
   "metadata": {},
   "source": [
    "### Ejemplo con una ruleta y una sola ficha"
   ]
  },
  {
   "cell_type": "markdown",
   "metadata": {},
   "source": [
    "Hay 37 bolas numeradas del 0 al 36 y si sale tu número te agregan 35 fichas a la tuya; si no, te la sacan."
   ]
  },
  {
   "cell_type": "code",
   "execution_count": 72,
   "metadata": {},
   "outputs": [],
   "source": [
    "possible_futures = {35: 1, -1: 36} # gains: number_of_ways"
   ]
  },
  {
   "cell_type": "code",
   "execution_count": 73,
   "metadata": {},
   "outputs": [
    {
     "data": {
      "text/plain": [
       "37"
      ]
     },
     "execution_count": 73,
     "metadata": {},
     "output_type": "execute_result"
    }
   ],
   "source": [
    "sum(possible_futures.values())"
   ]
  },
  {
   "cell_type": "code",
   "execution_count": 74,
   "metadata": {},
   "outputs": [],
   "source": [
    "def expected_value(possible_futures):\n",
    "    return sum(number_of_ways * gain for gain, number_of_ways in possible_futures.items()) / sum(possible_futures.values())"
   ]
  },
  {
   "cell_type": "code",
   "execution_count": 75,
   "metadata": {},
   "outputs": [
    {
     "data": {
      "text/plain": [
       "-0.02702702702702703"
      ]
     },
     "execution_count": 75,
     "metadata": {},
     "output_type": "execute_result"
    }
   ],
   "source": [
    "expected_value(possible_futures)"
   ]
  },
  {
   "cell_type": "markdown",
   "metadata": {},
   "source": [
    "Se podría decir, hablando mal y pronto, que por cada $\\$100$ jugados, se pierden $\\$3$. Entonces, según esta teoría que Danielito nos cuenta que goza de consenso entre los matemáticos que se han interesado por el problema de la medición del riesgo (eventualmente llamados economistas), el \"valor\" de decidir jugar $\\$100$ a la ruleta, debe considerarse igual a $\\$97$."
   ]
  },
  {
   "cell_type": "markdown",
   "metadata": {},
   "source": [
    "## §2\n",
    "\n",
    "> Proper examination of the numerous demonstrations of this proposition that have come forth indicates that they all rest upon one hypothesis:\n",
    ">\n",
    "> *since there is no reason to assume that of two persons encountering identical risks, either should expect to have his desires more closely fulfilled, the risks anticipated by each must be deemed equal in value.*\n",
    ">\n",
    "> No characteristic of the persons themselves ought to be taken into consideration; only those matters should be weighed carefully that pertain to the terms of the risk. The relevant finding might then be made by the highest judges established by public authority. But really there is here no need for judgment but of deliberation, i.e .,  rules would be set up whereby anyone could estimate his prospects from any risky undertaking in light of one's specific financial circumstances. "
   ]
  },
  {
   "cell_type": "markdown",
   "metadata": {},
   "source": [
    "Hay **mucho** para desempaquetar:\n",
    "\n",
    "* Bernoulli enuncia una crítica a sus contemporáneos devotos de la fe *Teoría del Valor Esperado*.\n",
    "* Se los dice utilizando un clásico recurso de la riña de filósofos: encontrarle hipótesis implícitas al adversario, como si fueran piojos.\n",
    "* BONUS POINTS: mostrar la aberración antinatural antihumana de las implicancias de esa hipótesis.\n",
    "* Esa hipótesis básicamente dice, en castellano: ![since_the_is_no_reason](traductor_since_there_is_no_reason.png).\n",
    "* Lo anterior es ABERRANTE, ANTINATURAL Y CONTRARIO A LA NATURALEZA HUMANA.\n",
    "* O al menos es, cuestionable, nos dice Danielito.\n",
    "* Después deduce que si para decidir participar en un \"riesgo\" (un negocio, un juego, pensiones, seguros, préstamos, etc.) no hace falta más que analizar sus términos, sin hacer entrar en consideración a las características de las personas involucradas en la decisión de \"jugar juntas\" o \"firmar un contrato\", **ENTONCES** no haría falta deliberación entre ellas para decidir si \"cooperar\" en un \"contrato\" pues se podría decidir siguiendo \"reglas de cálculo\" y comparando contra las circunstancias financieras particulares de cada una.\n",
    "* Lo importante de esto es que es una crítica filosófica proto-liberal; a Bernoulli no le gusta la idea de que alguien pueda imponerle a todas las personas un \"sistema de valoración de la incertidumbre\"."
   ]
  },
  {
   "cell_type": "markdown",
   "metadata": {},
   "source": [
    "## §3\n",
    "\n",
    "En esta sección, Bernoulli nos ayudar a imaginar una situación en donde las reglas anteriores nos conducen a algo que para él no tiene sentido.\n",
    "\n",
    "> To make this clear it is  perhaps advisable to consider the following example:\n",
    "> \n",
    "> > Somehow a very poor fellow obtains a lottery ticket that will yield with equal probability either nothing or twenty thousand ducats. Will this man evaluate his chance of winning at ten thousand ducats? Would he not be ill-advised to sell this lottery ticket for nine thousand ducats?\n",
    ">\n",
    "> To me it seems that the answer is in the negative.\n",
    "\n",
    "O sea, para Bernoulli, estaría bien aconsejarle al pobre que lo venda por $\\$9000$."
   ]
  },
  {
   "cell_type": "code",
   "execution_count": 76,
   "metadata": {},
   "outputs": [],
   "source": [
    "possible_futures = {0: 0.5, 20000: 0.5} # gain: probability"
   ]
  },
  {
   "cell_type": "code",
   "execution_count": 77,
   "metadata": {},
   "outputs": [
    {
     "data": {
      "text/plain": [
       "10000.0"
      ]
     },
     "execution_count": 77,
     "metadata": {},
     "output_type": "execute_result"
    }
   ],
   "source": [
    "expected_value(possible_futures)"
   ]
  },
  {
   "cell_type": "code",
   "execution_count": 78,
   "metadata": {},
   "outputs": [],
   "source": [
    "price = 9000"
   ]
  },
  {
   "cell_type": "code",
   "execution_count": 79,
   "metadata": {},
   "outputs": [
    {
     "name": "stdout",
     "output_type": "stream",
     "text": [
      "Acording to Expected Value Theory (EVT): any man should not sell the ticket.\n"
     ]
    }
   ],
   "source": [
    "print(f'Acording to Expected Value Theory (EVT): any man should{\" not \" if price < expected_value(possible_futures) else \" \"}sell the ticket.')"
   ]
  },
  {
   "cell_type": "markdown",
   "metadata": {},
   "source": [
    "Pero a él le parece que es obvio que sí debería.\n",
    "\n",
    "Es *vox populi*: *est avis in dextra, melior quam quattuor extra* (Ave en diestra, mejor que cuatro fuera).\n",
    "\n",
    "Sabiduría popular: *más vale pájaro en mano que 100 volando*."
   ]
  },
  {
   "cell_type": "markdown",
   "metadata": {},
   "source": [
    "Para agregar énfasis, nos dice:\n",
    "\n",
    "> On the other hand I  am inclined to believe that a rich man would be ill-advised to refuse to buy the lottery ticket for nine thousand ducats. If I am not wrong then it seems clear that all men cannot use the same rule to evaluate the gamble. The rule established in [§1](#§1) must, therefore, be discarded."
   ]
  },
  {
   "cell_type": "code",
   "execution_count": 80,
   "metadata": {},
   "outputs": [
    {
     "name": "stdout",
     "output_type": "stream",
     "text": [
      "Acording to Expected Value Theory (EVT): any man should buy the ticket.\n"
     ]
    }
   ],
   "source": [
    "print(f'Acording to Expected Value Theory (EVT): any man should{\" \" if price < expected_value(possible_futures) else \" not \"}buy the ticket.')"
   ]
  },
  {
   "cell_type": "markdown",
   "metadata": {},
   "source": [
    "Lo cuál es claramente contradictorio. A continuación, nos propone una enmienda:\n",
    "\n",
    "> But anyone who considers the problem with perspicacity and interest will ascertain that the concept of value which we have used in this rule may be defined in a way which renders the entire procedure universally acceptable without reservation. To do this the determination of the value of an item must not be based on its price, but rather on the **utility** it yields. The price of the item is dependent only on the thing itself and is equal for everyone; the utility, however, is dependent on the particular circumstances of the person making the estimate. Thus there is no doubt that a gain of one thousand ducats is more significant to a  pauper than to a  rich man though both gain the same amount."
   ]
  },
  {
   "cell_type": "markdown",
   "metadata": {},
   "source": [
    "Y de esta manera, el concepto de **utilidad** hace su primera aparición en la Historia de la Economía. Danielito aquí nos da una lección magistral: _si la decisión de comprar o vender algo sólo dependiera de su precio, no habría nunca un intercambio económico; no existiría economía_.\n",
    "\n",
    "Es para el evidente que una ganancia de 10000 ducats es más significante para un pobre que para un rico, por más que ambos ganen la misma cantidad.\n",
    "\n",
    "No perdamos de vista el contexto histórico: faltaban todavía"
   ]
  },
  {
   "cell_type": "code",
   "execution_count": 81,
   "metadata": {},
   "outputs": [
    {
     "data": {
      "text/plain": [
       "'38 años'"
      ]
     },
     "execution_count": 81,
     "metadata": {},
     "output_type": "execute_result"
    }
   ],
   "source": [
    "f'{1776 - 1738} años'"
   ]
  },
  {
   "cell_type": "markdown",
   "metadata": {},
   "source": [
    "para la publicación de *La Riqueza de las Naciones* de Adam Smith, obra que establece en Occidente al modelo de determinación de precios como equilibrio entre oferta y la demanda. [🐇꩜](https://en.wikipedia.org/wiki/Supply_and_demand#History).\n",
    "\n",
    "Bernoulli es recordado como matemático, cuando en realidad deberíamos recordarlo como uno de los pioneros de las teorías económicas. Aquí no está ofreciendo un marco teórico para entender al objeto elemental de lo que hoy conocemos como **MICRO** economía: las interacciones financieras entre individuos, a partir de las cuales se forman grupos que a su vez interactúan financieramente con otros grupos y/o individuos.\n",
    "\n",
    "Gracias a que distintas personas asignan distinto valor a un mismo objeto, es que existe la *liquidez* en un mercado. Bajo la idea de \"valor=precio\", nadie estaría dispuesto a intercambiar nada."
   ]
  },
  {
   "cell_type": "markdown",
   "metadata": {},
   "source": [
    "## §4\n",
    "\n",
    "> The discussion has now been developed to a point where anyone may proceed with the investigation by the mere paraphrasing of one and the same principle. However, since the hypothesis is entirely new, it may nevertheless require some elucidation. I  have, therefore, decided to explain by example what I have explored.\n",
    "\n",
    "Hay una distinción epistemológica importante para destacar:\n",
    "\n",
    "* Bernoulli hace una crítica a la teoría anterior, señalando una hipótesis implícita que conduce a contradicciones lógicas y empíricas.\n",
    "* Define la noción de *utilidad*, con el sólo objeto de distinguir *precio* y *valor*. Expande el lenguaje científico.}\n",
    "* Le propone a la comunidad científica utilizar el siguiente **principio** para buscar teorías superadoras: *la decisión de aceptar una propuesta financiera tiene que depender explícitamente de la persona responsable (utilidad subjetiva de las pérdidas y ganancias) ADEMÁS de las características intrínsecas del contrato (costos y ganancias, con sus probabilidades)*.\n",
    "* Es humilde al reconocer que lo que viene a continuación, es un ejemplo de lo que él ha explorado. No es una propuesta definitiva de teoría."
   ]
  },
  {
   "cell_type": "markdown",
   "metadata": {},
   "source": [
    "\n",
    "> Meanwhile, let us use this as a fundamental rule:\n",
    ">\n",
    "> _If the utility of each possible profit expectation is multiplied by the number of ways in which it can occur, and we then divide the sum of these products by the total number of possible cases, a mean utility [moral expectation] will be obtained, and the profit which corresponds to this utility will equal the value of the risk in question._\n",
    "\n",
    "Aquí nos pide que, mientras no tengamos una teoría definitiva, aceptemos la siguiente regla y definición: *el valor de una proposición riesgosa será aquella ganancia o pérdida segura que tenga la misma utilidad que la \"utilidad media\" (expectativa **moral**) de todas las ganancias o pérdidas inciertas*.\n",
    "\n",
    "Para entender esto, primero definamos la **moral expectation**:"
   ]
  },
  {
   "cell_type": "code",
   "execution_count": 82,
   "metadata": {},
   "outputs": [],
   "source": [
    "def moral_expectation(possible_futures, utility):\n",
    "    return sum(number_of_ways * utility(gain)\n",
    "               for gain, number_of_ways in possible_futures.items()) / sum(possible_futures.values())"
   ]
  },
  {
   "cell_type": "markdown",
   "metadata": {},
   "source": [
    "Luego pensemos que en términos físico-matemáticos, esto implica que dado que las utilidades, al ser subjetivas y medidas en una escala personal (ejemplo: \"Fran valora al dulce de leche en 100 franes de felicidad\"), son imposibles de comparar a menos que se las lleve a una escala común.\n",
    "\n",
    "Bernoulli nos propone que esa escala sea el dinero. ¿Cómo realizar la transformación? Simple: $\\mbox{utility}^{-1}(\\mbox{moral_expectation})$."
   ]
  },
  {
   "cell_type": "code",
   "execution_count": 83,
   "metadata": {},
   "outputs": [
    {
     "ename": "SyntaxError",
     "evalue": "invalid syntax (<fstring>, line 1)",
     "output_type": "error",
     "traceback": [
      "\u001b[1;36m  File \u001b[1;32m\"<fstring>\"\u001b[1;36m, line \u001b[1;32m1\u001b[0m\n\u001b[1;33m    ((x := moral_expectation({0: 0.5, 20000: 0.5}, greedy_u)) = )\u001b[0m\n\u001b[1;37m        ^\u001b[0m\n\u001b[1;31mSyntaxError\u001b[0m\u001b[1;31m:\u001b[0m invalid syntax\n"
     ]
    }
   ],
   "source": [
    "def greedy_u(x):\n",
    "    return (x/20000)**3\n",
    "\n",
    "def inverse_greedy_u(u):\n",
    "    return u**(1/3) * 20000\n",
    "\n",
    "print(f'{(x := moral_expectation({0: 0.5, 20000: 0.5}, greedy_u)) = }')\n",
    "print(f'{(value_of_the_risk := inverse_greedy_u(x)) = }')\n",
    "print(f'{(z := moral_expectation({value_of_the_risk: 1}, greedy_u)) = }')\n",
    "print(f'{round(z, 2) == round(x, 2) = }')"
   ]
  },
  {
   "cell_type": "code",
   "execution_count": 84,
   "metadata": {},
   "outputs": [],
   "source": [
    "import matplotlib.pyplot as plt\n",
    "import numpy as np"
   ]
  },
  {
   "cell_type": "code",
   "execution_count": 85,
   "metadata": {},
   "outputs": [],
   "source": [
    "xs = np.linspace(0, 20000, 1000)"
   ]
  },
  {
   "cell_type": "code",
   "execution_count": 86,
   "metadata": {},
   "outputs": [
    {
     "ename": "SyntaxError",
     "evalue": "invalid syntax (<fstring>, line 1)",
     "output_type": "error",
     "traceback": [
      "\u001b[1;36m  File \u001b[1;32m\"<fstring>\"\u001b[1;36m, line \u001b[1;32m1\u001b[0m\n\u001b[1;33m    (value_of_the_risk = )\u001b[0m\n\u001b[1;37m                       ^\u001b[0m\n\u001b[1;31mSyntaxError\u001b[0m\u001b[1;31m:\u001b[0m invalid syntax\n"
     ]
    }
   ],
   "source": [
    "plt.plot(xs, np.vectorize(greedy_u)(xs), label = '(x/20000)**3')\n",
    "#plt.plot(*([v, greedy_u(v)] for v in (0, 20000, value_of_the_risk)))\n",
    "for g in (0, 20000, value_of_the_risk):\n",
    "    plt.plot([0, g], [greedy_u(g)]*2, '-.x', color='red')\n",
    "    plt.plot([g]*2, [greedy_u(g), 0], '-.x', color='green')\n",
    "plt.text(0, x, 'moral expectation')\n",
    "plt.text(value_of_the_risk*0.75, x/3, f'{value_of_the_risk = :0.0f}')\n",
    "plt.title('La ambición lleva a valorar 20000 inciertos más que 15000 seguros')\n",
    "plt.xlabel('Valor [$]')\n",
    "plt.ylabel('Utilidad [franes]')\n",
    "plt.legend()\n",
    "plt.grid()"
   ]
  },
  {
   "cell_type": "markdown",
   "metadata": {},
   "source": [
    "Segundo, entendamos la regla de decisión que nos propone:"
   ]
  },
  {
   "cell_type": "code",
   "execution_count": 87,
   "metadata": {},
   "outputs": [],
   "source": [
    "def dani_recommends_selling(price, possible_futures, utility, inverse_u):\n",
    "    value_of_risk = inverse_u(moral_expectation(possible_futures, utility))\n",
    "    return price > value_of_risk\n",
    "\n",
    "def dani_recommends_buying(price, possible_futures, utility, inverse_u):\n",
    "    value_of_risk = inverse_u(moral_expectation(possible_futures, utility))\n",
    "    return price < value_of_risk"
   ]
  },
  {
   "cell_type": "markdown",
   "metadata": {},
   "source": [
    "\n",
    "Por ejemplo, podríamos re-expresar la teoría anterior (EVT) como un caso particular (EUT) de la nueva *(este es otro recurso típico de la riña entre filósofos: capturar la cosmología del adversario dentro de la propia)*:"
   ]
  },
  {
   "cell_type": "code",
   "execution_count": 88,
   "metadata": {},
   "outputs": [
    {
     "ename": "SyntaxError",
     "evalue": "invalid syntax (<ipython-input-88-3bcdcb93aba5>, line 2)",
     "output_type": "error",
     "traceback": [
      "\u001b[1;36m  File \u001b[1;32m\"<ipython-input-88-3bcdcb93aba5>\"\u001b[1;36m, line \u001b[1;32m2\u001b[0m\n\u001b[1;33m    return (utility := gain)\u001b[0m\n\u001b[1;37m                    ^\u001b[0m\n\u001b[1;31mSyntaxError\u001b[0m\u001b[1;31m:\u001b[0m invalid syntax\n"
     ]
    }
   ],
   "source": [
    "def evt_utility(gain):\n",
    "    return (utility := gain)\n",
    "\n",
    "def inverse_evt_utility(utility):\n",
    "    return (gain := utility)"
   ]
  },
  {
   "cell_type": "code",
   "execution_count": 89,
   "metadata": {},
   "outputs": [
    {
     "ename": "NameError",
     "evalue": "name 'classical_utility' is not defined",
     "output_type": "error",
     "traceback": [
      "\u001b[1;31m---------------------------------------------------------------------------\u001b[0m",
      "\u001b[1;31mNameError\u001b[0m                                 Traceback (most recent call last)",
      "\u001b[1;32m<ipython-input-89-ffd1b61d547f>\u001b[0m in \u001b[0;36m<module>\u001b[1;34m()\u001b[0m\n\u001b[1;32m----> 1\u001b[1;33m \u001b[0mdani_recommends_selling\u001b[0m\u001b[1;33m(\u001b[0m\u001b[1;36m9000\u001b[0m\u001b[1;33m,\u001b[0m \u001b[0mpossible_futures\u001b[0m\u001b[1;33m,\u001b[0m \u001b[0mclassical_utility\u001b[0m\u001b[1;33m,\u001b[0m \u001b[0minverse_classical_utility\u001b[0m\u001b[1;33m)\u001b[0m\u001b[1;33m\u001b[0m\u001b[0m\n\u001b[0m",
      "\u001b[1;31mNameError\u001b[0m: name 'classical_utility' is not defined"
     ]
    }
   ],
   "source": [
    "dani_recommends_selling(9000, possible_futures, classical_utility, inverse_classical_utility)"
   ]
  },
  {
   "cell_type": "code",
   "execution_count": 90,
   "metadata": {},
   "outputs": [
    {
     "ename": "NameError",
     "evalue": "name 'classical_utility' is not defined",
     "output_type": "error",
     "traceback": [
      "\u001b[1;31m---------------------------------------------------------------------------\u001b[0m",
      "\u001b[1;31mNameError\u001b[0m                                 Traceback (most recent call last)",
      "\u001b[1;32m<ipython-input-90-04820dc4d20b>\u001b[0m in \u001b[0;36m<module>\u001b[1;34m()\u001b[0m\n\u001b[1;32m----> 1\u001b[1;33m \u001b[0mdani_recommends_buying\u001b[0m\u001b[1;33m(\u001b[0m\u001b[1;36m9000\u001b[0m\u001b[1;33m,\u001b[0m \u001b[0mpossible_futures\u001b[0m\u001b[1;33m,\u001b[0m \u001b[0mclassical_utility\u001b[0m\u001b[1;33m,\u001b[0m \u001b[0minverse_classical_utility\u001b[0m\u001b[1;33m)\u001b[0m\u001b[1;33m\u001b[0m\u001b[0m\n\u001b[0m",
      "\u001b[1;31mNameError\u001b[0m: name 'classical_utility' is not defined"
     ]
    }
   ],
   "source": [
    "dani_recommends_buying(9000, possible_futures, classical_utility, inverse_classical_utility)"
   ]
  },
  {
   "cell_type": "markdown",
   "metadata": {},
   "source": [
    "## §13"
   ]
  },
  {
   "cell_type": "code",
   "execution_count": 91,
   "metadata": {},
   "outputs": [],
   "source": [
    "def risky_proposition(wealth, loss_times, gain_times, loss, gain):\n",
    "    return ((wealth - loss)**loss_times * (wealth + gain)**gain_times)**(1/(loss_times+gain_times)) - wealth"
   ]
  },
  {
   "cell_type": "code",
   "execution_count": 94,
   "metadata": {},
   "outputs": [
    {
     "data": {
      "image/png": "[encoded data removed]",
      "text/plain": [
       "<Figure size 432x288 with 1 Axes>"
      ]
     },
     "metadata": {},
     "output_type": "display_data"
    }
   ],
   "source": [
    "a = np.linspace(0, 10, 1000)\n",
    "\n",
    "plt.plot(gs, risky_proposition(wealth = 1, loss_times = 1, gain_times = 1, loss = 0.9, gain= a))\n",
    "plt.grid()"
   ]
  },
  {
   "cell_type": "markdown",
   "metadata": {},
   "source": [
    "## §14"
   ]
  },
  {
   "cell_type": "code",
   "execution_count": 96,
   "metadata": {},
   "outputs": [
    {
     "data": {
      "text/plain": [
       "0.9"
      ]
     },
     "execution_count": 96,
     "metadata": {},
     "output_type": "execute_result"
    }
   ],
   "source": [
    "wealth = 1\n",
    "gain = 9\n",
    "\n",
    "loss = wealth*gain / (wealth+gain)\n",
    "loss"
   ]
  },
  {
   "cell_type": "markdown",
   "metadata": {},
   "source": [
    "## §15 - Caius Clay"
   ]
  },
  {
   "cell_type": "code",
   "execution_count": 125,
   "metadata": {},
   "outputs": [
    {
     "data": {
      "image/png": "[encoded data removed]",
      "text/plain": [
       "<Figure size 432x288 with 1 Axes>"
      ]
     },
     "metadata": {},
     "output_type": "display_data"
    }
   ],
   "source": [
    "x = np.linspace(4000, 10000, 1000)\n",
    "\n",
    "plt.plot(x, risky_proposition(wealth = x, loss_times = 1, gain_times = 19, loss = 0, gain= 10000), label = \"No Insurance\") \n",
    "plt.plot(x, risky_proposition(wealth = x, loss_times = 0, gain_times = 1, loss = 1, gain= 9200), label = \"Insurance\") \n",
    "plt.legend()\n",
    "plt.title(\"Perspectiva del mercader\")\n",
    "plt.grid()"
   ]
  },
  {
   "cell_type": "markdown",
   "metadata": {},
   "source": [
    "Si la riqueza de Caius es menor a x = 5043, le conviene pagar 800 para garantizar que luego va a poder vender por 10000. El objetivo del seguro es *eliminar la probabilidad*.\n",
    "Si, por el contrario, la riqueza es mayor, debería arriesgarse a no asegurarlo. Esos 10000 posibles, ponderados con esos 0 posibles, valen más que los 9200 (10000 menos los 800 del seguro)."
   ]
  },
  {
   "cell_type": "code",
   "execution_count": 124,
   "metadata": {},
   "outputs": [
    {
     "data": {
      "image/png": "[encoded data removed]",
      "text/plain": [
       "<Figure size 432x288 with 1 Axes>"
      ]
     },
     "metadata": {},
     "output_type": "display_data"
    }
   ],
   "source": [
    "x = np.linspace(12000, 16000, 1000)\n",
    "\n",
    "plt.plot(x, risky_proposition(wealth = x, loss_times = 0, gain_times = 1, loss = 0, gain = 0), label = \"No offers\") \n",
    "plt.plot(x, risky_proposition(wealth = x, loss_times = 1, gain_times = 19, loss = 9200, gain = 800), label = \"Offers\") \n",
    "plt.legend()\n",
    "plt.title(\"Perspectiva del asegurador\")\n",
    "plt.grid()"
   ]
  },
  {
   "cell_type": "markdown",
   "metadata": {},
   "source": [
    "Si el asegurador tiene una riqueza mayor que x = 14243, le conviene ofrecer este servicio de asegurador."
   ]
  },
  {
   "cell_type": "code",
   "execution_count": null,
   "metadata": {},
   "outputs": [],
   "source": []
  }
 ],
 "metadata": {
  "kernelspec": {
   "display_name": "Python 3",
   "language": "python",
   "name": "python3"
  },
  "language_info": {
   "codemirror_mode": {
    "name": "ipython",
    "version": 3
   },
   "file_extension": ".py",
   "mimetype": "text/x-python",
   "name": "python",
   "nbconvert_exporter": "python",
   "pygments_lexer": "ipython3",
   "version": "3.6.5"
  }
 },
 "nbformat": 4,
 "nbformat_minor": 4
}
