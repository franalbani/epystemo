{
 "cells": [
  {
   "cell_type": "code",
   "execution_count": 82,
   "metadata": {},
   "outputs": [],
   "source": [
    "from random import choice\n",
    "from collections import Counter\n",
    "from fractions import Fraction"
   ]
  },
  {
   "cell_type": "markdown",
   "metadata": {},
   "source": [
    "## Si se extrae una y es roja, ¿ Cuál es la probabilidad de que la otra sea roja?"
   ]
  },
  {
   "cell_type": "code",
   "execution_count": 54,
   "metadata": {},
   "outputs": [
    {
     "name": "stdout",
     "output_type": "stream",
     "text": [
      "0.4897715988083416\n"
     ]
    }
   ],
   "source": [
    "exps = 10000\n",
    "\n",
    "cuasi_exito = 0\n",
    "exito = 0\n",
    "for e in range(exps):\n",
    "    bs = (choice(['R', 'V']), choice(['R', 'V']))\n",
    "    if bs[0] == 'R':\n",
    "        cuasi_exito += 1\n",
    "        if bs[1] == 'R':\n",
    "            exito+=1\n",
    "\n",
    "print(exito/cuasi_exito)"
   ]
  },
  {
   "cell_type": "markdown",
   "metadata": {},
   "source": [
    "## Si se sabe que al menos una es roja, ¿ Cuál es la probabilidad de que la otra sea roja?"
   ]
  },
  {
   "cell_type": "code",
   "execution_count": 56,
   "metadata": {},
   "outputs": [
    {
     "name": "stdout",
     "output_type": "stream",
     "text": [
      "0.3319120586275816\n"
     ]
    }
   ],
   "source": [
    "exps = 100000\n",
    "cuasi_exito = 0\n",
    "exito = 0\n",
    "for e in range(exps):\n",
    "    bs = (choice(['R', 'V']), choice(['R', 'V']))\n",
    "    if bs == ('V', 'R') or bs == ('R', 'R') or bs == ('R', 'V'):\n",
    "        cuasi_exito += 1\n",
    "        if bs == ('R', 'R'):\n",
    "            exito+=1\n",
    "print(exito/cuasi_exito)"
   ]
  },
  {
   "cell_type": "markdown",
   "metadata": {},
   "source": [
    "## Una vara de longitud _D_, se quiebra en un punto al azar, ¿ Cuál es la probabilidad de que la longitud de una de las piezas sea mayor que el doble de la otra?"
   ]
  },
  {
   "cell_type": "markdown",
   "metadata": {},
   "source": [
    "$\\rm X \\,\\approx\\, Uniform[0,1]$"
   ]
  },
  {
   "cell_type": "markdown",
   "metadata": {},
   "source": [
    "$\n",
    "\\rm L(x)   \\left\\{\n",
    "\\begin{array}{ll}\n",
    "      \\rm 1 - x & \\rm x\\leq 1/2 \\\\\n",
    "      \\rm x & \\rm x\\geq 1/2 \\\\\n",
    "\\end{array} \n",
    "\\right.\n",
    "$"
   ]
  },
  {
   "cell_type": "code",
   "execution_count": 70,
   "metadata": {},
   "outputs": [],
   "source": [
    "from scipy.stats import uniform  "
   ]
  },
  {
   "cell_type": "code",
   "execution_count": 71,
   "metadata": {},
   "outputs": [],
   "source": [
    "X = uniform()"
   ]
  },
  {
   "cell_type": "code",
   "execution_count": 77,
   "metadata": {},
   "outputs": [],
   "source": [
    "def L(x):\n",
    "    if x <= 0.5:\n",
    "        return 1-x\n",
    "    elif x > 0.5 :\n",
    "        return x\n",
    "    \n",
    "def C(x):\n",
    "    return 1 - L(x)"
   ]
  },
  {
   "cell_type": "code",
   "execution_count": 85,
   "metadata": {},
   "outputs": [
    {
     "name": "stdout",
     "output_type": "stream",
     "text": [
      "True\n",
      "True\n"
     ]
    }
   ],
   "source": [
    "x1 = Fraction(1, 3)\n",
    "print(L(x1) - 2*C(x1) == Fraction(0, 1))\n",
    "\n",
    "x2 = Fraction(2, 3)\n",
    "print(L(x2) - 2*C(x2) == Fraction(0, 1))"
   ]
  },
  {
   "cell_type": "code",
   "execution_count": 91,
   "metadata": {},
   "outputs": [
    {
     "data": {
      "text/plain": [
       "0.6666666666666666"
      ]
     },
     "execution_count": 91,
     "metadata": {},
     "output_type": "execute_result"
    }
   ],
   "source": [
    "X.cdf(x1.numerator/x1.denominator)*2"
   ]
  },
  {
   "cell_type": "markdown",
   "metadata": {},
   "source": [
    "## Juan y Carlos quedaron en encontrarse en un bar a las 12am. La hora de llegada de Juan es uniforme entre las 12:00 y las 12:15. La hora de llegada de Carlos es uniforme entre las 12:05 y las 12:20. Son idependientes entre sí. Juan tiene 15min de paciencia para esperarlo a Carlos, si no llega se las toma. Y, Carlos es más impaciente y solo espera 5 minutos antes de irse. Calcular la probabilidad de encuentro."
   ]
  },
  {
   "cell_type": "code",
   "execution_count": 93,
   "metadata": {},
   "outputs": [],
   "source": [
    "juan = uniform(0, 15)\n",
    "carlos = uniform(5, 20)"
   ]
  },
  {
   "cell_type": "code",
   "execution_count": null,
   "metadata": {},
   "outputs": [],
   "source": []
  }
 ],
 "metadata": {
  "kernelspec": {
   "display_name": "Python 3",
   "language": "python",
   "name": "python3"
  },
  "language_info": {
   "codemirror_mode": {
    "name": "ipython",
    "version": 3
   },
   "file_extension": ".py",
   "mimetype": "text/x-python",
   "name": "python",
   "nbconvert_exporter": "python",
   "pygments_lexer": "ipython3",
   "version": "3.8.2"
  }
 },
 "nbformat": 4,
 "nbformat_minor": 4
}
